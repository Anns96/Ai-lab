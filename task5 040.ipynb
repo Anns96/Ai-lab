{
 "cells": [
  {
   "cell_type": "markdown",
   "metadata": {},
   "source": [
    "# DFS with Stack & Node"
   ]
  },
  {
   "cell_type": "code",
   "execution_count": 5,
   "metadata": {},
   "outputs": [
    {
     "name": "stdout",
     "output_type": "stream",
     "text": [
      "1\n",
      "2\n",
      "4\n",
      "3\n"
     ]
    }
   ],
   "source": [
    "class Node:\n",
    "    def __init__(self, value):\n",
    "        self.value = value\n",
    "        self.childs= []\n",
    "\n",
    "def dfs_withstack(root):\n",
    "    if root is None:\n",
    "        return\n",
    "\n",
    "    stack = [root] \n",
    "    \n",
    "    while stack:\n",
    "        node = stack.pop()  \n",
    "        print(node.value) \n",
    "        for child in reversed(node.childs):\n",
    "            stack.append(child)\n",
    "\n",
    "root = Node(1)\n",
    "root.childs.append(Node(2))\n",
    "root.childs.append(Node(3))\n",
    "root.childs[0].childs.append(Node(4))\n",
    "dfs_withstack(root)\n"
   ]
  }
 ],
 "metadata": {
  "kernelspec": {
   "display_name": "Python 3",
   "language": "python",
   "name": "python3"
  },
  "language_info": {
   "codemirror_mode": {
    "name": "ipython",
    "version": 3
   },
   "file_extension": ".py",
   "mimetype": "text/x-python",
   "name": "python",
   "nbconvert_exporter": "python",
   "pygments_lexer": "ipython3",
   "version": "3.12.4"
  }
 },
 "nbformat": 4,
 "nbformat_minor": 2
}
