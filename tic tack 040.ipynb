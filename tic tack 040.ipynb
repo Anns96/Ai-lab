{
 "cells": [
  {
   "cell_type": "code",
   "execution_count": 1,
   "metadata": {},
   "outputs": [
    {
     "ename": "ValueError",
     "evalue": "invalid literal for int() with base 10: '3x4'",
     "output_type": "error",
     "traceback": [
      "\u001b[1;31m---------------------------------------------------------------------------\u001b[0m",
      "\u001b[1;31mValueError\u001b[0m                                Traceback (most recent call last)",
      "Cell \u001b[1;32mIn[1], line 46\u001b[0m\n\u001b[0;32m     44\u001b[0m         turn \u001b[38;5;241m+\u001b[39m\u001b[38;5;241m=\u001b[39m \u001b[38;5;241m1\u001b[39m\n\u001b[0;32m     45\u001b[0m \u001b[38;5;28;01mif\u001b[39;00m \u001b[38;5;18m__name__\u001b[39m \u001b[38;5;241m==\u001b[39m \u001b[38;5;124m\"\u001b[39m\u001b[38;5;124m__main__\u001b[39m\u001b[38;5;124m\"\u001b[39m:\n\u001b[1;32m---> 46\u001b[0m     \u001b[43mtic_tac_toe\u001b[49m\u001b[43m(\u001b[49m\u001b[43m)\u001b[49m\n",
      "Cell \u001b[1;32mIn[1], line 20\u001b[0m, in \u001b[0;36mtic_tac_toe\u001b[1;34m()\u001b[0m\n\u001b[0;32m     19\u001b[0m \u001b[38;5;28;01mdef\u001b[39;00m \u001b[38;5;21mtic_tac_toe\u001b[39m():\n\u001b[1;32m---> 20\u001b[0m     size \u001b[38;5;241m=\u001b[39m \u001b[38;5;28;43mint\u001b[39;49m\u001b[43m(\u001b[49m\u001b[38;5;28;43minput\u001b[39;49m\u001b[43m(\u001b[49m\u001b[38;5;124;43m\"\u001b[39;49m\u001b[38;5;124;43menter board size (e.g., 3 for 3x3): \u001b[39;49m\u001b[38;5;124;43m\"\u001b[39;49m\u001b[43m)\u001b[49m\u001b[43m)\u001b[49m\n\u001b[0;32m     21\u001b[0m     board \u001b[38;5;241m=\u001b[39m create_board(size)\n\u001b[0;32m     22\u001b[0m     players \u001b[38;5;241m=\u001b[39m [\u001b[38;5;124m'\u001b[39m\u001b[38;5;124mX\u001b[39m\u001b[38;5;124m'\u001b[39m, \u001b[38;5;124m'\u001b[39m\u001b[38;5;124mO\u001b[39m\u001b[38;5;124m'\u001b[39m]\n",
      "\u001b[1;31mValueError\u001b[0m: invalid literal for int() with base 10: '3x4'"
     ]
    }
   ],
   "source": [
    "def create_board(size):\n",
    "    return np.full((size, size), ' ')\n",
    "def print_board(board):\n",
    "    size = len(board)\n",
    "    for row in range(size):\n",
    "        print(\" | \".join(board[row]))\n",
    "        if row < size - 1:\n",
    "            print(\"-\" * (size * 4 - 3))\n",
    "def check_winner(board, player):\n",
    "    size = len(board)\n",
    "    for i in range(size):\n",
    "        if all(board[i, j] == player for j in range(size)) or all(board[j, i] == player for j in range(size)):\n",
    "            return True\n",
    "    if all(board[i, i] == player for i in range(size)) or all(board[i, size - 1 - i] == player for i in range(size)):\n",
    "        return True\n",
    "    return False\n",
    "def is_full(board):\n",
    "    return not any(' ' in row for row in board)\n",
    "def tic_tac_toe():\n",
    "    size = int(input(\"enter board size (e.g., 3 for 3x3): \"))\n",
    "    board = create_board(size)\n",
    "    players = ['X', 'O']\n",
    "    turn = 0\n",
    "    while True:\n",
    "        print_board(board)\n",
    "        player = players[turn % 2]\n",
    "        try:\n",
    "            row, col = map(int, input(f\"player {player}, enter row and column (0-{size-1}): \").split())\n",
    "            if board[row, col] != ' ':\n",
    "                print(\"cell already occupied!\")\n",
    "                continue\n",
    "        except (ValueError, IndexError):\n",
    "            print(\"invalid input!\")\n",
    "            continue\n",
    "        board[row, col] = player\n",
    "        if check_winner(board, player):\n",
    "            print_board(board)\n",
    "            print(f\"player {player} wins!\")\n",
    "            break \n",
    "        if is_full(board):\n",
    "            print_board(board)\n",
    "            print(\"It's draw!\")\n",
    "            break   \n",
    "        turn += 1\n",
    "if __name__ == \"__main__\":\n",
    "    tic_tac_toe()\n"
   ]
  }
 ],
 "metadata": {
  "kernelspec": {
   "display_name": "Python 3",
   "language": "python",
   "name": "python3"
  },
  "language_info": {
   "codemirror_mode": {
    "name": "ipython",
    "version": 3
   },
   "file_extension": ".py",
   "mimetype": "text/x-python",
   "name": "python",
   "nbconvert_exporter": "python",
   "pygments_lexer": "ipython3",
   "version": "3.12.6"
  }
 },
 "nbformat": 4,
 "nbformat_minor": 2
}
